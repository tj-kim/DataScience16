{
 "cells": [
  {
   "cell_type": "markdown",
   "metadata": {},
   "source": [
    "Exercise from Think Stats, 2nd Edition (thinkstats2.com)<br>\n",
    "Allen Downey\n",
    "\n",
    "Read the female respondent file and display the variables names."
   ]
  },
  {
   "cell_type": "code",
   "execution_count": 41,
   "metadata": {
    "collapsed": false
   },
   "outputs": [
    {
     "data": {
      "text/plain": [
       "Index([u'caseid', u'rscrinf', u'rdormres', u'rostscrn', u'rscreenhisp',\n",
       "       u'rscreenrace', u'age_a', u'age_r', u'cmbirth', u'agescrn',\n",
       "       ...\n",
       "       u'pubassis_i', u'basewgt', u'adj_mod_basewgt', u'finalwgt', u'secu_r',\n",
       "       u'sest', u'cmintvw', u'cmlstyr', u'screentime', u'intvlngth'],\n",
       "      dtype='object', length=3087)"
      ]
     },
     "execution_count": 41,
     "metadata": {},
     "output_type": "execute_result"
    }
   ],
   "source": [
    "%matplotlib inline\n",
    "\n",
    "import chap01soln\n",
    "resp = chap01soln.ReadFemResp()\n",
    "resp.columns"
   ]
  },
  {
   "cell_type": "markdown",
   "metadata": {},
   "source": [
    "Make a histogram of <tt>totincr</tt> the total income for the respondent's family.  To interpret the codes see the [codebook](http://www.icpsr.umich.edu/nsfg6/Controller?displayPage=labelDetails&fileCode=MALE&section=R&subSec=7958&srtLabel=609776)."
   ]
  },
  {
   "cell_type": "code",
   "execution_count": 42,
   "metadata": {
    "collapsed": false
   },
   "outputs": [
    {
     "name": "stdout",
     "output_type": "stream",
     "text": [
      "<class 'thinkstats2.Hist'>\n"
     ]
    }
   ],
   "source": [
    "import thinkstats2\n",
    "hist = thinkstats2.Hist(resp.totincr)\n",
    "print type(hist)"
   ]
  },
  {
   "cell_type": "markdown",
   "metadata": {},
   "source": [
    "Display the histogram."
   ]
  },
  {
   "cell_type": "code",
   "execution_count": 43,
   "metadata": {
    "collapsed": false
   },
   "outputs": [
    {
     "data": {
      "image/png": "[encoded data removed]",
      "text/plain": [
       "<matplotlib.figure.Figure at 0x7f7618cb88d0>"
      ]
     },
     "metadata": {},
     "output_type": "display_data"
    },
    {
     "data": {
      "text/plain": [
       "<matplotlib.figure.Figure at 0x7f7618cdaad0>"
      ]
     },
     "metadata": {},
     "output_type": "display_data"
    }
   ],
   "source": [
    "import thinkplot\n",
    "thinkplot.Hist(hist, label='totincr')\n",
    "thinkplot.Show()"
   ]
  },
  {
   "cell_type": "markdown",
   "metadata": {},
   "source": [
    "Make a histogram of <tt>age_r</tt>, the respondent's age at the time of interview."
   ]
  },
  {
   "cell_type": "code",
   "execution_count": 44,
   "metadata": {
    "collapsed": false
   },
   "outputs": [
    {
     "data": {
      "image/png": "[encoded data removed]",
      "text/plain": [
       "<matplotlib.figure.Figure at 0x7f75f5761a50>"
      ]
     },
     "metadata": {},
     "output_type": "display_data"
    },
    {
     "data": {
      "text/plain": [
       "<matplotlib.figure.Figure at 0x7f75f5e6f090>"
      ]
     },
     "metadata": {},
     "output_type": "display_data"
    }
   ],
   "source": [
    "hist = thinkstats2.Hist(resp.age_r)\n",
    "thinkplot.Hist(hist, label='age_r')\n",
    "thinkplot.Show()"
   ]
  },
  {
   "cell_type": "markdown",
   "metadata": {},
   "source": [
    "Make a histogram of <tt>numfmhh</tt>, the number of people in the respondent's household."
   ]
  },
  {
   "cell_type": "code",
   "execution_count": 45,
   "metadata": {
    "collapsed": false
   },
   "outputs": [
    {
     "data": {
      "image/png": "[encoded data removed]",
      "text/plain": [
       "<matplotlib.figure.Figure at 0x7f75f5dd3890>"
      ]
     },
     "metadata": {},
     "output_type": "display_data"
    },
    {
     "data": {
      "text/plain": [
       "<matplotlib.figure.Figure at 0x7f75f6303c50>"
      ]
     },
     "metadata": {},
     "output_type": "display_data"
    }
   ],
   "source": [
    "hist = thinkstats2.Hist(resp.numfmhh)\n",
    "thinkplot.Hist(hist, label='# ppl in house')\n",
    "thinkplot.Show(title='Numfmhh Histogram',xlabel = '# of people',ylabel='frequency')"
   ]
  },
  {
   "cell_type": "markdown",
   "metadata": {},
   "source": [
    "Make a histogram of <tt>parity</tt>, the number children the respondent has borne.  How would you describe this distribution?"
   ]
  },
  {
   "cell_type": "code",
   "execution_count": 46,
   "metadata": {
    "collapsed": false
   },
   "outputs": [
    {
     "data": {
      "image/png": "[encoded data removed]",
      "text/plain": [
       "<matplotlib.figure.Figure at 0x7f75f6296390>"
      ]
     },
     "metadata": {},
     "output_type": "display_data"
    },
    {
     "data": {
      "text/plain": [
       "<matplotlib.figure.Figure at 0x7f7618cc8c10>"
      ]
     },
     "metadata": {},
     "output_type": "display_data"
    }
   ],
   "source": [
    "hist = thinkstats2.Hist(resp.parity)\n",
    "thinkplot.Hist(hist, label='parity')\n",
    "thinkplot.Show(title='Parity', xlabel='# children borne',ylabel='freq')"
   ]
  },
  {
   "cell_type": "markdown",
   "metadata": {},
   "source": [
    "The distribution is skewed to the right, mostly because there cannot be negative children. It seems that most people do not have children, and the ones that do prefer 1 or 2 children, and the probably having more subsequently gets less."
   ]
  },
  {
   "cell_type": "markdown",
   "metadata": {},
   "source": [
    "Use Hist.Largest to find the largest values of <tt>parity</tt>."
   ]
  },
  {
   "cell_type": "code",
   "execution_count": 47,
   "metadata": {
    "collapsed": false
   },
   "outputs": [
    {
     "name": "stdout",
     "output_type": "stream",
     "text": [
      "('num_kids', 'freq')\n",
      "(22, 1)\n",
      "(16, 1)\n",
      "(10, 3)\n",
      "(9, 2)\n",
      "(8, 8)\n",
      "(7, 15)\n",
      "(6, 29)\n",
      "(5, 95)\n",
      "(4, 309)\n",
      "(3, 828)\n"
     ]
    }
   ],
   "source": [
    "print ('num_kids', 'freq')\n",
    "for num_kids, freq in hist.Largest(10):\n",
    "    print (num_kids, freq)"
   ]
  },
  {
   "cell_type": "markdown",
   "metadata": {},
   "source": [
    "Use <tt>totincr</tt> to select the respondents with the highest income.  Compute the distribution of <tt>parity</tt> for just the high income respondents."
   ]
  },
  {
   "cell_type": "code",
   "execution_count": 48,
   "metadata": {
    "collapsed": false,
    "scrolled": true
   },
   "outputs": [
    {
     "data": {
      "image/png": "[encoded data removed]",
      "text/plain": [
       "<matplotlib.figure.Figure at 0x7f75f5dd3310>"
      ]
     },
     "metadata": {},
     "output_type": "display_data"
    },
    {
     "data": {
      "text/plain": [
       "<matplotlib.figure.Figure at 0x7f7622385250>"
      ]
     },
     "metadata": {},
     "output_type": "display_data"
    }
   ],
   "source": [
    "hist = thinkstats2.Hist(resp.totincr)\n",
    "for totincome, freq in hist.Largest(1):\n",
    "    richest_val = totincome\n",
    "high_income = resp[resp.totincr == richest_val]\n",
    "\n",
    "hist_high_income = thinkstats2.Hist(high_income.parity, label='high income parity')\n",
    "thinkplot.Hist(hist_high_income)\n",
    "thinkplot.Show(title='high income parity',xlabel='parity',ylabel='freq')"
   ]
  },
  {
   "cell_type": "markdown",
   "metadata": {},
   "source": [
    "Find the largest parities for high income respondents."
   ]
  },
  {
   "cell_type": "code",
   "execution_count": 49,
   "metadata": {
    "collapsed": false
   },
   "outputs": [
    {
     "name": "stdout",
     "output_type": "stream",
     "text": [
      "('num_kids', 'freq')\n",
      "(8, 1)\n",
      "(7, 1)\n",
      "(5, 5)\n",
      "(4, 19)\n",
      "(3, 123)\n"
     ]
    }
   ],
   "source": [
    "print ('num_kids', 'freq')\n",
    "for num_kids, freq in hist_high_income.Largest(5):\n",
    "    print (num_kids, freq)"
   ]
  },
  {
   "cell_type": "markdown",
   "metadata": {},
   "source": [
    "Compare the mean <tt>parity</tt> for high income respondents and others."
   ]
  },
  {
   "cell_type": "code",
   "execution_count": 50,
   "metadata": {
    "collapsed": false
   },
   "outputs": [
    {
     "name": "stdout",
     "output_type": "stream",
     "text": [
      "High Income Parity Mean: 1.07586206897\n",
      "Other Income Parity Mean: 1.24957581367\n"
     ]
    }
   ],
   "source": [
    "other_income = resp[resp.totincr != richest_val]\n",
    "mean_high_income = high_income.parity.mean()\n",
    "mean_other_income = other_income.parity.mean()\n",
    "print \"High Income Parity Mean:\", mean_high_income\n",
    "print \"Other Income Parity Mean:\", mean_other_income"
   ]
  },
  {
   "cell_type": "markdown",
   "metadata": {},
   "source": [
    "Investigate any other variables that look interesting."
   ]
  },
  {
   "cell_type": "code",
   "execution_count": 51,
   "metadata": {
    "collapsed": false
   },
   "outputs": [
    {
     "data": {
      "image/png": "[encoded data removed]",
      "text/plain": [
       "<matplotlib.figure.Figure at 0x7f75f5b1b150>"
      ]
     },
     "metadata": {},
     "output_type": "display_data"
    },
    {
     "data": {
      "image/png": "[encoded data removed]",
      "text/plain": [
       "<matplotlib.figure.Figure at 0x7f75f6296610>"
      ]
     },
     "metadata": {},
     "output_type": "display_data"
    },
    {
     "name": "stdout",
     "output_type": "stream",
     "text": [
      "Fulltime Work Parity Mean: 1.18201154664\n",
      "Other Work Parity Mean: 1.25436580882\n"
     ]
    },
    {
     "data": {
      "text/plain": [
       "<matplotlib.figure.Figure at 0x7f75ffd17990>"
      ]
     },
     "metadata": {},
     "output_type": "display_data"
    }
   ],
   "source": [
    "# I will investigate different \n",
    "# labor force groups the respondent was a part of\n",
    "\n",
    "# Create Histogram item for labor force\n",
    "hist_laborfor = thinkstats2.Hist(resp.laborfor)\n",
    "thinkplot.Hist(hist_laborfor, label='Labor Force')\n",
    "\n",
    "\"\"\"\n",
    "Key:\n",
    "1\tWORKING FULL-TIME\t \t2763\n",
    "2\tWORKING PART-TIME\t \t756\n",
    "3\tWORKING-TEMP ILL/ETC\t \t168\n",
    "4\tWORKING-MATERNITY OR FAMILY LEAVE\t \t7\n",
    "5\tNOT WORKING BUT LOOKING FOR WORK\t \t302\n",
    "6\tSCHOOL\t \t437\n",
    "7\tKEEPING HOUSE\t \t222\n",
    "8\tCARING FOR FAMILY\t \t34\n",
    "9\tOTHER\t \t239\n",
    "\"\"\"\n",
    "\n",
    "# isolate the full time work group to a new hist item\n",
    "thinkplot.Show(title='Labor Force', xlabel='Social Status',ylabel='freq')\n",
    "fulltime_work = resp[resp.laborfor == 1]\n",
    "\n",
    "# Graph parity for full time working respondents\n",
    "hist_fulltime_work_parity = thinkstats2.Hist(fulltime_work.parity, label='fulltime work parity')\n",
    "thinkplot.Hist(hist_fulltime_work_parity)\n",
    "thinkplot.Show(title='Fulltime work parity',xlabel='parity',ylabel='freq')\n",
    "\n",
    "# Finding mean of parity for both full time and other \n",
    "other_work = resp[resp.laborfor != 1]\n",
    "mean_fulltime_work = fulltime_work.parity.mean()\n",
    "mean_other_work = other_work.parity.mean()\n",
    "print \"Fulltime Work Parity Mean:\", mean_fulltime_work\n",
    "print \"Other Work Parity Mean:\", mean_other_work"
   ]
  },
  {
   "cell_type": "markdown",
   "metadata": {},
   "source": [
    "By examining this, we see that the data corresponds with my predicted trend. People who work full time jobs seem to have less children as they do not have the time or money to afford them, compared to others."
   ]
  },
  {
   "cell_type": "markdown",
   "metadata": {
    "collapsed": false
   },
   "source": [
    "### Exercise 4\n",
    "\n",
    "Using the variable totalwgt_lb, investigate whether first babies are lighter or heavier than others. Compute Cohen’s d to quantify the difference between the groups. How does it compare to the difference in pregnancy length? "
   ]
  },
  {
   "cell_type": "code",
   "execution_count": 52,
   "metadata": {
    "collapsed": false,
    "scrolled": true
   },
   "outputs": [
    {
     "data": {
      "image/png": "[encoded data removed]",
      "text/plain": [
       "<matplotlib.figure.Figure at 0x7f75f689fa90>"
      ]
     },
     "metadata": {},
     "output_type": "display_data"
    },
    {
     "data": {
      "image/png": "[encoded data removed]",
      "text/plain": [
       "<matplotlib.figure.Figure at 0x7f75f6472650>"
      ]
     },
     "metadata": {},
     "output_type": "display_data"
    },
    {
     "name": "stdout",
     "output_type": "stream",
     "text": [
      "Effect Size: 0.0691182534882\n"
     ]
    },
    {
     "data": {
      "text/plain": [
       "<matplotlib.figure.Figure at 0x7f75f6671150>"
      ]
     },
     "metadata": {},
     "output_type": "display_data"
    }
   ],
   "source": [
    "# Import functions and data\n",
    "import nsfg\n",
    "import math\n",
    "preg = nsfg.ReadFemPreg()\n",
    "\n",
    "# Divide the data to first borns and other borns and make hist\n",
    "first_weight = preg[preg.pregordr == 1]\n",
    "other_weight = preg[preg.pregordr != 1]\n",
    "\n",
    "first_weight_hist = thinkstats2.Hist(first_weight.totalwgt_lb, label='First Born')\n",
    "other_weight_hist = thinkstats2.Hist(other_weight.totalwgt_lb, label='Other Born')\n",
    "\n",
    "# Plot the histograms\n",
    "thinkplot.Hist(first_weight_hist)\n",
    "thinkplot.Show(xlabel='Weight lb', ylabel='frequency')\n",
    "thinkplot.Hist(other_weight_hist)\n",
    "thinkplot.Show(xlabel='Weight lb', ylabel='frequency')\n",
    "\n",
    "# Function for computing Effect Size\n",
    "\n",
    "def CohenEffectSize(group1, group2):\n",
    "    diff = group1.mean() - group2.mean()\n",
    "\n",
    "    var1 = group1.var()\n",
    "    var2 = group2.var()\n",
    "    n1, n2 = len(group1), len(group2)\n",
    "\n",
    "    pooled_var = (n1 * var1 + n2 * var2) / (n1 + n2)\n",
    "    d = diff / math.sqrt(pooled_var)\n",
    "    return d\n",
    "\n",
    "print \"Effect Size:\", CohenEffectSize(other_weight.totalwgt_lb, first_weight.totalwgt_lb)"
   ]
  },
  {
   "cell_type": "markdown",
   "metadata": {},
   "source": [
    "The effect size of the difference in total weight between the first born and others is 0.069, while the effect size for the pregnancy length for the first born and others are 0.029. The effect size is at least twice as greater for the weight than the length. This indicates that the relationship between birthorder has a higher correspondance with tota weight than it does with pregnancy length."
   ]
  }
 ],
 "metadata": {
  "kernelspec": {
   "display_name": "Python 2",
   "language": "python",
   "name": "python2"
  },
  "language_info": {
   "codemirror_mode": {
    "name": "ipython",
    "version": 2
   },
   "file_extension": ".py",
   "mimetype": "text/x-python",
   "name": "python",
   "nbconvert_exporter": "python",
   "pygments_lexer": "ipython2",
   "version": "2.7.6"
  }
 },
 "nbformat": 4,
 "nbformat_minor": 0
}
