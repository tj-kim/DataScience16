{
 "cells": [
  {
   "cell_type": "markdown",
   "metadata": {},
   "source": [
    "Exercise from Think Stats, 2nd Edition (thinkstats2.com)<br>\n",
    "Allen Downey"
   ]
  },
  {
   "cell_type": "code",
   "execution_count": 2,
   "metadata": {
    "collapsed": false
   },
   "outputs": [],
   "source": [
    "%matplotlib inline"
   ]
  },
  {
   "cell_type": "markdown",
   "metadata": {},
   "source": [
    "Suppose one of your co-workers is expecting a baby and you are participating in an office pool to predict the date of birth. Assuming that bets are placed during the 30th week of pregnancy, what variables could you use to make the best prediction? You should limit yourself to variables that are known before the birth, and likely to be available to the people in the pool. "
   ]
  },
  {
   "cell_type": "code",
   "execution_count": 30,
   "metadata": {
    "collapsed": false
   },
   "outputs": [
    {
     "data": {
      "text/html": [
       "<table class=\"simpletable\">\n",
       "<caption>OLS Regression Results</caption>\n",
       "<tr>\n",
       "  <th>Dep. Variable:</th>        <td>prglngth</td>     <th>  R-squared:         </th> <td>   0.006</td> \n",
       "</tr>\n",
       "<tr>\n",
       "  <th>Model:</th>                   <td>OLS</td>       <th>  Adj. R-squared:    </th> <td>   0.006</td> \n",
       "</tr>\n",
       "<tr>\n",
       "  <th>Method:</th>             <td>Least Squares</td>  <th>  F-statistic:       </th> <td>   13.35</td> \n",
       "</tr>\n",
       "<tr>\n",
       "  <th>Date:</th>             <td>Thu, 28 Jan 2016</td> <th>  Prob (F-statistic):</th> <td>7.54e-11</td> \n",
       "</tr>\n",
       "<tr>\n",
       "  <th>Time:</th>                 <td>21:13:14</td>     <th>  Log-Likelihood:    </th> <td> -18261.</td> \n",
       "</tr>\n",
       "<tr>\n",
       "  <th>No. Observations:</th>      <td>  8878</td>      <th>  AIC:               </th> <td>3.653e+04</td>\n",
       "</tr>\n",
       "<tr>\n",
       "  <th>Df Residuals:</th>          <td>  8873</td>      <th>  BIC:               </th> <td>3.657e+04</td>\n",
       "</tr>\n",
       "<tr>\n",
       "  <th>Df Model:</th>              <td>     4</td>      <th>                     </th>     <td> </td>    \n",
       "</tr>\n",
       "<tr>\n",
       "  <th>Covariance Type:</th>      <td>nonrobust</td>    <th>                     </th>     <td> </td>    \n",
       "</tr>\n",
       "</table>\n",
       "<table class=\"simpletable\">\n",
       "<tr>\n",
       "      <td></td>         <th>coef</th>     <th>std err</th>      <th>t</th>      <th>P>|t|</th> <th>[95.0% Conf. Int.]</th> \n",
       "</tr>\n",
       "<tr>\n",
       "  <th>Intercept</th> <td>   39.6947</td> <td>    0.152</td> <td>  260.759</td> <td> 0.000</td> <td>   39.396    39.993</td>\n",
       "</tr>\n",
       "<tr>\n",
       "  <th>birthord</th>  <td>   -0.0563</td> <td>    0.019</td> <td>   -2.894</td> <td> 0.004</td> <td>   -0.094    -0.018</td>\n",
       "</tr>\n",
       "<tr>\n",
       "  <th>race</th>      <td>    0.0476</td> <td>    0.036</td> <td>    1.340</td> <td> 0.180</td> <td>   -0.022     0.117</td>\n",
       "</tr>\n",
       "<tr>\n",
       "  <th>nbrnaliv</th>  <td>   -0.7054</td> <td>    0.114</td> <td>   -6.187</td> <td> 0.000</td> <td>   -0.929    -0.482</td>\n",
       "</tr>\n",
       "<tr>\n",
       "  <th>babysex</th>   <td>   -0.0546</td> <td>    0.040</td> <td>   -1.360</td> <td> 0.174</td> <td>   -0.133     0.024</td>\n",
       "</tr>\n",
       "</table>\n",
       "<table class=\"simpletable\">\n",
       "<tr>\n",
       "  <th>Omnibus:</th>       <td>1579.495</td> <th>  Durbin-Watson:     </th> <td>   1.622</td>\n",
       "</tr>\n",
       "<tr>\n",
       "  <th>Prob(Omnibus):</th>  <td> 0.000</td>  <th>  Jarque-Bera (JB):  </th> <td>6065.294</td>\n",
       "</tr>\n",
       "<tr>\n",
       "  <th>Skew:</th>           <td>-0.851</td>  <th>  Prob(JB):          </th> <td>    0.00</td>\n",
       "</tr>\n",
       "<tr>\n",
       "  <th>Kurtosis:</th>       <td> 6.674</td>  <th>  Cond. No.          </th> <td>    30.3</td>\n",
       "</tr>\n",
       "</table>"
      ],
      "text/plain": [
       "<class 'statsmodels.iolib.summary.Summary'>\n",
       "\"\"\"\n",
       "                            OLS Regression Results                            \n",
       "==============================================================================\n",
       "Dep. Variable:               prglngth   R-squared:                       0.006\n",
       "Model:                            OLS   Adj. R-squared:                  0.006\n",
       "Method:                 Least Squares   F-statistic:                     13.35\n",
       "Date:                Thu, 28 Jan 2016   Prob (F-statistic):           7.54e-11\n",
       "Time:                        21:13:14   Log-Likelihood:                -18261.\n",
       "No. Observations:                8878   AIC:                         3.653e+04\n",
       "Df Residuals:                    8873   BIC:                         3.657e+04\n",
       "Df Model:                           4                                         \n",
       "Covariance Type:            nonrobust                                         \n",
       "==============================================================================\n",
       "                 coef    std err          t      P>|t|      [95.0% Conf. Int.]\n",
       "------------------------------------------------------------------------------\n",
       "Intercept     39.6947      0.152    260.759      0.000        39.396    39.993\n",
       "birthord      -0.0563      0.019     -2.894      0.004        -0.094    -0.018\n",
       "race           0.0476      0.036      1.340      0.180        -0.022     0.117\n",
       "nbrnaliv      -0.7054      0.114     -6.187      0.000        -0.929    -0.482\n",
       "babysex       -0.0546      0.040     -1.360      0.174        -0.133     0.024\n",
       "==============================================================================\n",
       "Omnibus:                     1579.495   Durbin-Watson:                   1.622\n",
       "Prob(Omnibus):                  0.000   Jarque-Bera (JB):             6065.294\n",
       "Skew:                          -0.851   Prob(JB):                         0.00\n",
       "Kurtosis:                       6.674   Cond. No.                         30.3\n",
       "==============================================================================\n",
       "\n",
       "Warnings:\n",
       "[1] Standard Errors assume that the covariance matrix of the errors is correctly specified.\n",
       "\"\"\""
      ]
     },
     "execution_count": 30,
     "metadata": {},
     "output_type": "execute_result"
    }
   ],
   "source": [
    "# Import modules and libraries\n",
    "import first\n",
    "import statsmodels.formula.api as smf\n",
    "\n",
    "# Create 3 df, one for live baby, firsts, others\n",
    "# Because we are already at 30 weeks, we will only take data\n",
    "# from the live where the baby is over 30 weeks old.\n",
    "live, firsts, others = first.MakeFrames()\n",
    "df = live[live.prglngth>30]\n",
    "\n",
    "\n",
    "formula = ('prglngth ~ birthord + race + nbrnaliv + babysex')\n",
    "model = smf.ols(formula, data=df)\n",
    "results = model.fit()\n",
    "results.summary()"
   ]
  },
  {
   "cell_type": "markdown",
   "metadata": {},
   "source": [
    "Observing the major variables mentioned in the reading pre-birth, which are birthord, race, nbrnaliv, and babysex, it seems as if race has the greatest coefficient. All the other coefficients are negative, indicating that they are either in the negative direction or the prediction is worse than random. However, magnitude wise, nbrnaliv is the greatest, which indicates that the number of children born at once heavily effect the birth length."
   ]
  },
  {
   "cell_type": "markdown",
   "metadata": {},
   "source": [
    "## Clarifying Questions\n",
    "\n",
    "Use this space to ask questions regarding the content covered in the reading. These questions should be restricted to helping you better understand the material. For questions that push beyond what is in the reading, use the next answer field. If you don't have a fully formed question, but are generally having a difficult time with a topic, you can indicate that here as well."
   ]
  },
  {
   "cell_type": "markdown",
   "metadata": {},
   "source": [
    "I am not sure, when we set the formula for the smf.ols(), what the == or < do. (ex birthord == 1). I read that they make it a boolean but they seem to alter the coefficient values printed by summary. "
   ]
  },
  {
   "cell_type": "markdown",
   "metadata": {},
   "source": [
    "## Enrichment Questions\n",
    "\n",
    "Use this space to ask any questions that go beyond (but are related to) the material presented in this reading. Perhaps there is a particular topic you'd like to see covered in more depth. Perhaps you'd like to know how to use a library in a way that wasn't show in the reading. One way to think about this is what additional topics would you want covered in the next class (or addressed in a followup e-mail to the class). I'm a little fuzzy on what stuff will likely go here, so we'll see how things evolve."
   ]
  },
  {
   "cell_type": "markdown",
   "metadata": {},
   "source": [
    "How do we scan all 244 variables and get the correlation values for all of them in a nice list? Is it some data mining technique, or do we have to filter them and test each independently?\n",
    "\n",
    "Overall I had great struggle with this chapter as I could not really understand what to do other than filtering out the dataframe for pregnancies over 30 weeks long. I've worked with a few people and the overall understanding of this chapter compared to the other ones seemed a bit lower. Could we possibly go over this chapter in a little more depth in class?"
   ]
  },
  {
   "cell_type": "markdown",
   "metadata": {},
   "source": [
    "## Additional Resources / Explorations\n",
    "\n",
    "If you found any useful resources, or tried some useful exercises that you'd like to report please do so here. Let us know what you did, what you learned, and how others can replicate it."
   ]
  },
  {
   "cell_type": "markdown",
   "metadata": {},
   "source": []
  }
 ],
 "metadata": {
  "kernelspec": {
   "display_name": "Python 2",
   "language": "python",
   "name": "python2"
  },
  "language_info": {
   "codemirror_mode": {
    "name": "ipython",
    "version": 2
   },
   "file_extension": ".py",
   "mimetype": "text/x-python",
   "name": "python",
   "nbconvert_exporter": "python",
   "pygments_lexer": "ipython2",
   "version": "2.7.11"
  }
 },
 "nbformat": 4,
 "nbformat_minor": 0
}
